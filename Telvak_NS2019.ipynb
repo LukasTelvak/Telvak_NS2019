{
  "cells": [
    {
      "metadata": {
        "trusted": true
      },
      "cell_type": "code",
      "source": "from keras.datasets.mnist import load_data\nimport numpy as np\nimport matplotlib.pyplot as plt\nimport pylab as p",
      "execution_count": 1,
      "outputs": [
        {
          "output_type": "stream",
          "text": "Using TensorFlow backend.\n",
          "name": "stderr"
        }
      ]
    },
    {
      "metadata": {
        "trusted": true
      },
      "cell_type": "code",
      "source": "(train_digits, train_labels), (test_digits, test_labels) = load_data()",
      "execution_count": 2,
      "outputs": []
    },
    {
      "metadata": {
        "trusted": true
      },
      "cell_type": "code",
      "source": "image_height = train_digits.shape[1]  \nimage_width = train_digits.shape[2]\nnum_channels = 1",
      "execution_count": 3,
      "outputs": []
    },
    {
      "metadata": {
        "trusted": true
      },
      "cell_type": "code",
      "source": "train_data = np.reshape(train_digits, (train_digits.shape[0], image_height, image_width, num_channels))\ntest_data = np.reshape(test_digits, (test_digits.shape[0],image_height, image_width, num_channels))\n\ntrain_data = train_data.astype('float32') / 255.\ntest_data = test_data.astype('float32') / 255.\n\nfrom keras.utils import to_categorical\nnum_classes = 10\ntrain_labels_cat = to_categorical(train_labels,num_classes)\ntest_labels_cat = to_categorical(test_labels,num_classes)\ntrain_labels_cat.shape, test_labels_cat.shape",
      "execution_count": 4,
      "outputs": [
        {
          "output_type": "execute_result",
          "execution_count": 4,
          "data": {
            "text/plain": "((60000, 10), (10000, 10))"
          },
          "metadata": {}
        }
      ]
    },
    {
      "metadata": {
        "trusted": true
      },
      "cell_type": "code",
      "source": "from keras.models import Sequential\nfrom keras.layers import Conv2D, MaxPooling2D, Flatten, Dense, Dropout\n\ndef build_model():\n    model = Sequential()\n    # add Convolutional layers\n    model.add(Conv2D(filters=32, kernel_size=(3,3), activation='relu', padding='same',\n                     input_shape=(image_height, image_width, num_channels)))\n    model.add(MaxPooling2D(pool_size=(2,2)))\n    model.add(Conv2D(filters=64, kernel_size=(3,3), activation='relu', padding='same'))\n    model.add(MaxPooling2D(pool_size=(2,2)))\n    model.add(Conv2D(filters=64, kernel_size=(3,3), activation='relu', padding='same'))\n    model.add(MaxPooling2D(pool_size=(2,2)))    \n    model.add(Flatten())\n    # Densely connected layers\n    model.add(Dense(128, activation='relu'))\n    # output layer\n    model.add(Dense(num_classes, activation='softmax'))\n    # compile with adam optimizer & categorical_crossentropy loss function\n    model.compile(optimizer='adam', loss='categorical_crossentropy', metrics=['accuracy'])\n    return model\n\nmodel = build_model()\nprint(model.summary())",
      "execution_count": 5,
      "outputs": [
        {
          "output_type": "stream",
          "text": "_________________________________________________________________\nLayer (type)                 Output Shape              Param #   \n=================================================================\nconv2d_1 (Conv2D)            (None, 28, 28, 32)        320       \n_________________________________________________________________\nmax_pooling2d_1 (MaxPooling2 (None, 14, 14, 32)        0         \n_________________________________________________________________\nconv2d_2 (Conv2D)            (None, 14, 14, 64)        18496     \n_________________________________________________________________\nmax_pooling2d_2 (MaxPooling2 (None, 7, 7, 64)          0         \n_________________________________________________________________\nconv2d_3 (Conv2D)            (None, 7, 7, 64)          36928     \n_________________________________________________________________\nmax_pooling2d_3 (MaxPooling2 (None, 3, 3, 64)          0         \n_________________________________________________________________\nflatten_1 (Flatten)          (None, 576)               0         \n_________________________________________________________________\ndense_1 (Dense)              (None, 128)               73856     \n_________________________________________________________________\ndense_2 (Dense)              (None, 10)                1290      \n=================================================================\nTotal params: 130,890\nTrainable params: 130,890\nNon-trainable params: 0\n_________________________________________________________________\nNone\n",
          "name": "stdout"
        }
      ]
    },
    {
      "metadata": {
        "trusted": true
      },
      "cell_type": "code",
      "source": "results = model.fit(train_data, train_labels_cat, \n                    epochs=15, batch_size=64,\n                    validation_data=(test_data, test_labels_cat))",
      "execution_count": 6,
      "outputs": [
        {
          "output_type": "stream",
          "text": "Train on 60000 samples, validate on 10000 samples\nEpoch 1/15\n60000/60000 [==============================] - 103s 2ms/step - loss: 0.1699 - acc: 0.9470 - val_loss: 0.0474 - val_acc: 0.9860\nEpoch 2/15\n60000/60000 [==============================] - 103s 2ms/step - loss: 0.0491 - acc: 0.9847 - val_loss: 0.0479 - val_acc: 0.9860\nEpoch 3/15\n60000/60000 [==============================] - 102s 2ms/step - loss: 0.0345 - acc: 0.9889 - val_loss: 0.0323 - val_acc: 0.9898\nEpoch 4/15\n60000/60000 [==============================] - 105s 2ms/step - loss: 0.0268 - acc: 0.9913 - val_loss: 0.0455 - val_acc: 0.9858\nEpoch 5/15\n60000/60000 [==============================] - 107s 2ms/step - loss: 0.0211 - acc: 0.9932 - val_loss: 0.0251 - val_acc: 0.9917\nEpoch 6/15\n60000/60000 [==============================] - 101s 2ms/step - loss: 0.0171 - acc: 0.9945 - val_loss: 0.0254 - val_acc: 0.9917\nEpoch 7/15\n60000/60000 [==============================] - 106s 2ms/step - loss: 0.0139 - acc: 0.9955 - val_loss: 0.0257 - val_acc: 0.9916\nEpoch 8/15\n60000/60000 [==============================] - 100s 2ms/step - loss: 0.0122 - acc: 0.9957 - val_loss: 0.0225 - val_acc: 0.9921\nEpoch 9/15\n60000/60000 [==============================] - 99s 2ms/step - loss: 0.0104 - acc: 0.9965 - val_loss: 0.0305 - val_acc: 0.9912\nEpoch 10/15\n60000/60000 [==============================] - 99s 2ms/step - loss: 0.0091 - acc: 0.9970 - val_loss: 0.0314 - val_acc: 0.9915\nEpoch 11/15\n60000/60000 [==============================] - 99s 2ms/step - loss: 0.0075 - acc: 0.9978 - val_loss: 0.0281 - val_acc: 0.9909\nEpoch 12/15\n60000/60000 [==============================] - 98s 2ms/step - loss: 0.0076 - acc: 0.9977 - val_loss: 0.0272 - val_acc: 0.9922\nEpoch 13/15\n60000/60000 [==============================] - 99s 2ms/step - loss: 0.0075 - acc: 0.9975 - val_loss: 0.0420 - val_acc: 0.9887\nEpoch 14/15\n60000/60000 [==============================] - 100s 2ms/step - loss: 0.0066 - acc: 0.9976 - val_loss: 0.0319 - val_acc: 0.9918\nEpoch 15/15\n60000/60000 [==============================] - 100s 2ms/step - loss: 0.0065 - acc: 0.9981 - val_loss: 0.0311 - val_acc: 0.9909\n",
          "name": "stdout"
        }
      ]
    },
    {
      "metadata": {
        "trusted": true
      },
      "cell_type": "code",
      "source": "test_loss, test_accuracy = \\\n  model.evaluate(test_data, test_labels_cat, batch_size=64)\nprint('Test loss: %.4f accuracy: %.4f' % (test_loss, test_accuracy))",
      "execution_count": 7,
      "outputs": [
        {
          "output_type": "stream",
          "text": "10000/10000 [==============================] - 5s 483us/step\nTest loss: 0.0311 accuracy: 0.9909\n",
          "name": "stdout"
        }
      ]
    },
    {
      "metadata": {
        "trusted": true
      },
      "cell_type": "code",
      "source": "predictions = model.predict(test_data)\nidx = np.where((np.argmax(predictions, axis=1) != \\\n                        np.argmax(test_labels_cat,axis=1)))\n(np.argmax(predictions, axis=1) != \\\n                        np.argmax(test_labels_cat,axis=1)).sum()",
      "execution_count": 8,
      "outputs": [
        {
          "output_type": "execute_result",
          "execution_count": 8,
          "data": {
            "text/plain": "91"
          },
          "metadata": {}
        }
      ]
    },
    {
      "metadata": {
        "trusted": true
      },
      "cell_type": "code",
      "source": "print(idx)   ",
      "execution_count": 9,
      "outputs": [
        {
          "output_type": "stream",
          "text": "(array([ 321,  359,  583,  619,  646,  659,  829,  882,  947, 1014, 1039,\n       1112, 1182, 1232, 1242, 1247, 1319, 1393, 1522, 1621, 1654, 1737,\n       1790, 1901, 1982, 2130, 2135, 2182, 2280, 2414, 2447, 2462, 2597,\n       2654, 2678, 2771, 2927, 2939, 2995, 3030, 3225, 3250, 3330, 3422,\n       3520, 3534, 3558, 3599, 3727, 4078, 4163, 4176, 4384, 4504, 4536,\n       4740, 4783, 4823, 4860, 4939, 5165, 5634, 5937, 5955, 5981, 5997,\n       6172, 6555, 6560, 6571, 6576, 6597, 6625, 6651, 7216, 7849, 8094,\n       8246, 8278, 8310, 8382, 8509, 9015, 9642, 9664, 9679, 9729, 9811,\n       9839, 9847, 9850]),)\n",
          "name": "stdout"
        }
      ]
    },
    {
      "metadata": {
        "trusted": true
      },
      "cell_type": "code",
      "source": "predikovane = np.argmax(predictions, axis=1)[idx]\nskutocne = np.argmax(test_labels_cat,axis=1)[idx]\nprint(\"Predikované\")\nprint(predikovane)\nprint(\"Skutočné\")\nprint(skutocne)",
      "execution_count": 15,
      "outputs": [
        {
          "output_type": "stream",
          "text": "Predikované\n[7 4 7 8 1 7 8 4 9 5 1 6 8 4 9 5 9 3 9 6 7 8 7 4 5 9 1 3 5 4 9 8 3 1 9 9 7\n 5 8 0 9 1 3 0 4 8 0 7 9 8 7 7 1 7 5 5 9 4 9 7 6 8 3 8 9 9 5 9 5 7 1 7 2 8\n 6 9 8 9 2 1 2 8 2 7 7 1 6 8 7 7 8]\nSkutočné\n[2 9 2 1 2 2 4 9 8 6 7 4 6 9 4 9 8 5 7 0 2 5 2 9 6 4 6 1 3 9 4 2 5 6 4 4 3\n 9 6 6 7 2 2 6 6 4 5 2 8 9 9 2 2 2 6 3 4 9 4 2 0 2 5 3 5 5 9 8 9 9 7 0 8 0\n 0 3 2 3 0 2 0 1 7 9 2 6 5 2 2 2 0]\n",
          "name": "stdout"
        }
      ]
    },
    {
      "metadata": {
        "trusted": true
      },
      "cell_type": "code",
      "source": "print(results.history['loss'])",
      "execution_count": 11,
      "outputs": [
        {
          "output_type": "stream",
          "text": "[0.16989081470618644, 0.04908832485104601, 0.03452646141036724, 0.02679504335517995, 0.021147211468809594, 0.01707660634442388, 0.01391364328788671, 0.012190113975773178, 0.010422665476371185, 0.009115324581597816, 0.007455844599642781, 0.007582175417286392, 0.00749552636254507, 0.0065832178473578095, 0.006488771874994169]\n",
          "name": "stdout"
        }
      ]
    },
    {
      "metadata": {
        "trusted": true
      },
      "cell_type": "code",
      "source": "plt.plot(results.history['loss'])",
      "execution_count": 12,
      "outputs": [
        {
          "output_type": "execute_result",
          "execution_count": 12,
          "data": {
            "text/plain": "[<matplotlib.lines.Line2D at 0x7f61c891bf60>]"
          },
          "metadata": {}
        },
        {
          "output_type": "display_data",
          "data": {
            "image/png": "[encoded data removed]",
            "text/plain": "<Figure size 432x288 with 1 Axes>"
          },
          "metadata": {
            "needs_background": "light"
          }
        }
      ]
    },
    {
      "metadata": {
        "trusted": true
      },
      "cell_type": "code",
      "source": "print(results.history['acc'])",
      "execution_count": 13,
      "outputs": [
        {
          "output_type": "stream",
          "text": "[0.9470333333333333, 0.9846666666666667, 0.9888666666666667, 0.9912833333333333, 0.9931666666666666, 0.9945166666666667, 0.9955333333333334, 0.99565, 0.9965, 0.997, 0.99775, 0.9976833333333334, 0.9975333333333334, 0.9976, 0.9981333333333333]\n",
          "name": "stdout"
        }
      ]
    },
    {
      "metadata": {
        "trusted": true
      },
      "cell_type": "code",
      "source": "plt.plot(results.history['acc'])",
      "execution_count": 14,
      "outputs": [
        {
          "output_type": "execute_result",
          "execution_count": 14,
          "data": {
            "text/plain": "[<matplotlib.lines.Line2D at 0x7f61c88bd748>]"
          },
          "metadata": {}
        },
        {
          "output_type": "display_data",
          "data": {
            "image/png": "[encoded data removed]",
            "text/plain": "<Figure size 432x288 with 1 Axes>"
          },
          "metadata": {
            "needs_background": "light"
          }
        }
      ]
    },
    {
      "metadata": {
        "trusted": true
      },
      "cell_type": "code",
      "source": "",
      "execution_count": null,
      "outputs": []
    }
  ],
  "metadata": {
    "kernelspec": {
      "name": "python36",
      "display_name": "Python 3.6",
      "language": "python"
    },
    "language_info": {
      "mimetype": "text/x-python",
      "nbconvert_exporter": "python",
      "name": "python",
      "pygments_lexer": "ipython3",
      "version": "3.6.6",
      "file_extension": ".py",
      "codemirror_mode": {
        "version": 3,
        "name": "ipython"
      }
    }
  },
  "nbformat": 4,
  "nbformat_minor": 2
}